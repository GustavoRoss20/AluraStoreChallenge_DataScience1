{
  "cells": [
    {
      "cell_type": "markdown",
      "metadata": {
        "id": "RhEdWd9YUR6H"
      },
      "source": [
        "### Importación de datos\n",
        "\n"
      ]
    },
    {
      "cell_type": "code",
      "execution_count": null,
      "metadata": {
        "colab": {
          "base_uri": "https://localhost:8080/",
          "height": 206
        },
        "id": "T3EvaeQ_INIL",
        "outputId": "e9c5efe1-82a3-43ab-e8d7-6d01e4fa3514"
      },
      "outputs": [
        {
          "data": {
            "text/html": [
              "<div>\n",
              "<style scoped>\n",
              "    .dataframe tbody tr th:only-of-type {\n",
              "        vertical-align: middle;\n",
              "    }\n",
              "\n",
              "    .dataframe tbody tr th {\n",
              "        vertical-align: top;\n",
              "    }\n",
              "\n",
              "    .dataframe thead th {\n",
              "        text-align: right;\n",
              "    }\n",
              "</style>\n",
              "<table border=\"1\" class=\"dataframe\">\n",
              "  <thead>\n",
              "    <tr style=\"text-align: right;\">\n",
              "      <th></th>\n",
              "      <th>Producto</th>\n",
              "      <th>Categoría del Producto</th>\n",
              "      <th>Precio</th>\n",
              "      <th>Costo de envío</th>\n",
              "      <th>Fecha de Compra</th>\n",
              "      <th>Vendedor</th>\n",
              "      <th>Lugar de Compra</th>\n",
              "      <th>Calificación</th>\n",
              "      <th>Método de pago</th>\n",
              "      <th>Cantidad de cuotas</th>\n",
              "      <th>lat</th>\n",
              "      <th>lon</th>\n",
              "    </tr>\n",
              "  </thead>\n",
              "  <tbody>\n",
              "    <tr>\n",
              "      <th>0</th>\n",
              "      <td>Asistente virtual</td>\n",
              "      <td>Electrónicos</td>\n",
              "      <td>164300.0</td>\n",
              "      <td>6900.0</td>\n",
              "      <td>16/01/2021</td>\n",
              "      <td>Pedro Gomez</td>\n",
              "      <td>Bogotá</td>\n",
              "      <td>4</td>\n",
              "      <td>Tarjeta de crédito</td>\n",
              "      <td>8</td>\n",
              "      <td>4.60971</td>\n",
              "      <td>-74.08175</td>\n",
              "    </tr>\n",
              "    <tr>\n",
              "      <th>1</th>\n",
              "      <td>Mesa de comedor</td>\n",
              "      <td>Muebles</td>\n",
              "      <td>192300.0</td>\n",
              "      <td>8400.0</td>\n",
              "      <td>18/05/2022</td>\n",
              "      <td>Beatriz Morales</td>\n",
              "      <td>Medellín</td>\n",
              "      <td>1</td>\n",
              "      <td>Tarjeta de crédito</td>\n",
              "      <td>4</td>\n",
              "      <td>6.25184</td>\n",
              "      <td>-75.56359</td>\n",
              "    </tr>\n",
              "    <tr>\n",
              "      <th>2</th>\n",
              "      <td>Juego de mesa</td>\n",
              "      <td>Juguetes</td>\n",
              "      <td>209600.0</td>\n",
              "      <td>15900.0</td>\n",
              "      <td>15/03/2021</td>\n",
              "      <td>Juan Fernandez</td>\n",
              "      <td>Cartagena</td>\n",
              "      <td>1</td>\n",
              "      <td>Tarjeta de crédito</td>\n",
              "      <td>1</td>\n",
              "      <td>10.39972</td>\n",
              "      <td>-75.51444</td>\n",
              "    </tr>\n",
              "    <tr>\n",
              "      <th>3</th>\n",
              "      <td>Microondas</td>\n",
              "      <td>Electrodomésticos</td>\n",
              "      <td>757500.0</td>\n",
              "      <td>41000.0</td>\n",
              "      <td>03/05/2022</td>\n",
              "      <td>Juan Fernandez</td>\n",
              "      <td>Cali</td>\n",
              "      <td>4</td>\n",
              "      <td>Nequi</td>\n",
              "      <td>1</td>\n",
              "      <td>3.43722</td>\n",
              "      <td>-76.52250</td>\n",
              "    </tr>\n",
              "    <tr>\n",
              "      <th>4</th>\n",
              "      <td>Silla de oficina</td>\n",
              "      <td>Muebles</td>\n",
              "      <td>335200.0</td>\n",
              "      <td>20200.0</td>\n",
              "      <td>07/11/2020</td>\n",
              "      <td>Maria Alfonso</td>\n",
              "      <td>Medellín</td>\n",
              "      <td>5</td>\n",
              "      <td>Nequi</td>\n",
              "      <td>1</td>\n",
              "      <td>6.25184</td>\n",
              "      <td>-75.56359</td>\n",
              "    </tr>\n",
              "  </tbody>\n",
              "</table>\n",
              "</div>"
            ],
            "text/plain": [
              "            Producto Categoría del Producto    Precio  Costo de envío  \\\n",
              "0  Asistente virtual           Electrónicos  164300.0          6900.0   \n",
              "1    Mesa de comedor                Muebles  192300.0          8400.0   \n",
              "2      Juego de mesa               Juguetes  209600.0         15900.0   \n",
              "3         Microondas      Electrodomésticos  757500.0         41000.0   \n",
              "4   Silla de oficina                Muebles  335200.0         20200.0   \n",
              "\n",
              "  Fecha de Compra         Vendedor Lugar de Compra  Calificación  \\\n",
              "0      16/01/2021      Pedro Gomez          Bogotá             4   \n",
              "1      18/05/2022  Beatriz Morales        Medellín             1   \n",
              "2      15/03/2021   Juan Fernandez       Cartagena             1   \n",
              "3      03/05/2022   Juan Fernandez            Cali             4   \n",
              "4      07/11/2020    Maria Alfonso        Medellín             5   \n",
              "\n",
              "       Método de pago  Cantidad de cuotas       lat       lon  \n",
              "0  Tarjeta de crédito                   8   4.60971 -74.08175  \n",
              "1  Tarjeta de crédito                   4   6.25184 -75.56359  \n",
              "2  Tarjeta de crédito                   1  10.39972 -75.51444  \n",
              "3               Nequi                   1   3.43722 -76.52250  \n",
              "4               Nequi                   1   6.25184 -75.56359  "
            ]
          },
          "execution_count": 19,
          "metadata": {},
          "output_type": "execute_result"
        }
      ],
      "source": [
        "import pandas as pd\n",
        "import matplotlib.pyplot as plt\n",
        "\n",
        "url = \"https://raw.githubusercontent.com/alura-es-cursos/challenge1-data-science-latam/refs/heads/main/base-de-datos-challenge1-latam/tienda_1%20.csv\"\n",
        "url2 = \"https://raw.githubusercontent.com/alura-es-cursos/challenge1-data-science-latam/refs/heads/main/base-de-datos-challenge1-latam/tienda_2.csv\"\n",
        "url3 = \"https://raw.githubusercontent.com/alura-es-cursos/challenge1-data-science-latam/refs/heads/main/base-de-datos-challenge1-latam/tienda_3.csv\"\n",
        "url4 = \"https://raw.githubusercontent.com/alura-es-cursos/challenge1-data-science-latam/refs/heads/main/base-de-datos-challenge1-latam/tienda_4.csv\"\n",
        "\n",
        "tienda = pd.read_csv(url)\n",
        "tienda2 = pd.read_csv(url2)\n",
        "tienda3 = pd.read_csv(url3)\n",
        "tienda4 = pd.read_csv(url4)\n",
        "\n",
        "tienda.head()"
      ]
    },
    {
      "cell_type": "markdown",
      "metadata": {
        "id": "X62IW3KFUIYm"
      },
      "source": [
        "# 1. Análisis de facturación"
      ]
    },
    {
      "cell_type": "code",
      "execution_count": 35,
      "metadata": {
        "id": "xykobSftV64I"
      },
      "outputs": [],
      "source": [
        "totalTienda1 = tienda[\"Precio\"].sum()\n",
        "totalTienda2 = tienda2[\"Precio\"].sum()\n",
        "totalTienda3 = tienda3[\"Precio\"].sum()\n",
        "totalTienda4 = tienda4[\"Precio\"].sum()\n"
      ]
    },
    {
      "cell_type": "code",
      "execution_count": 36,
      "metadata": {
        "id": "KDyr8E71V3m-"
      },
      "outputs": [
        {
          "name": "stdout",
          "output_type": "stream",
          "text": [
            "Tienda 1: 1150880400.0\n",
            "Tienda 2: 1116343500.0\n",
            "Tienda 3: 1098019600.0\n",
            "Tienda 4: 1038375700.0\n"
          ]
        }
      ],
      "source": [
        "print(f\"Tienda 1: {totalTienda1}\")\n",
        "print(f\"Tienda 2: {totalTienda2}\")\n",
        "print(f\"Tienda 3: {totalTienda3}\")\n",
        "print(f\"Tienda 4: {totalTienda4}\")"
      ]
    },
    {
      "cell_type": "markdown",
      "metadata": {
        "id": "2V_vcAPzWZmR"
      },
      "source": [
        "# 2. Ventas por categoría"
      ]
    },
    {
      "cell_type": "code",
      "execution_count": 48,
      "metadata": {},
      "outputs": [],
      "source": [
        "ventasPorCategoriaTienda1 = tienda.groupby(\"Categoría del Producto\")[\"Producto\"].count().idxmax()\n",
        "ventasPorCategoriaTienda2 = tienda2.groupby(\"Categoría del Producto\")[\"Producto\"].count().idxmax()\n",
        "ventasPorCategoriaTienda3 = tienda2.groupby(\"Categoría del Producto\")[\"Producto\"].count().idxmax()\n",
        "ventasPorCategoriaTienda4 = tienda4.groupby(\"Categoría del Producto\")[\"Producto\"].count().idxmax()"
      ]
    },
    {
      "cell_type": "code",
      "execution_count": 49,
      "metadata": {},
      "outputs": [
        {
          "name": "stdout",
          "output_type": "stream",
          "text": [
            "Categoria popular tienda 1: Muebles\n",
            "Categoria popular tienda 2: Muebles\n",
            "Categoria popular tienda 3: Muebles\n",
            "Categoria popular tienda 4: Muebles\n"
          ]
        }
      ],
      "source": [
        "print(f\"Categoria popular tienda 1: {ventasPorCategoriaTienda1}\")\n",
        "print(f\"Categoria popular tienda 2: {ventasPorCategoriaTienda2}\")\n",
        "print(f\"Categoria popular tienda 3: {ventasPorCategoriaTienda3}\")\n",
        "print(f\"Categoria popular tienda 4: {ventasPorCategoriaTienda4}\")"
      ]
    },
    {
      "cell_type": "markdown",
      "metadata": {
        "id": "Rq6tU_xSY3jk"
      },
      "source": [
        "# 3. Calificación promedio de la tienda\n"
      ]
    },
    {
      "cell_type": "code",
      "execution_count": 50,
      "metadata": {
        "id": "bh3jjjJwY5MU"
      },
      "outputs": [],
      "source": [
        "promedioCalTienda1 = tienda[\"Calificación\"].median()\n",
        "promedioCalTienda2 = tienda2[\"Calificación\"].median()\n",
        "promedioCalTienda3 = tienda3[\"Calificación\"].median()\n",
        "promedioCalTienda4 = tienda4[\"Calificación\"].median()"
      ]
    },
    {
      "cell_type": "code",
      "execution_count": 51,
      "metadata": {},
      "outputs": [
        {
          "name": "stdout",
          "output_type": "stream",
          "text": [
            "Tienda 1: 5.0\n",
            "Tienda 2: 5.0\n",
            "Tienda 3: 5.0\n",
            "Tienda 4: 5.0\n"
          ]
        }
      ],
      "source": [
        "print(f\"Tienda 1: {promedioCalTienda1}\")\n",
        "print(f\"Tienda 2: {promedioCalTienda2}\")\n",
        "print(f\"Tienda 3: {promedioCalTienda3}\")\n",
        "print(f\"Tienda 4: {promedioCalTienda4}\")"
      ]
    },
    {
      "cell_type": "markdown",
      "metadata": {
        "id": "DmNp1KPBZCm-"
      },
      "source": [
        "# 4. Productos más y menos vendidos"
      ]
    },
    {
      "cell_type": "code",
      "execution_count": 61,
      "metadata": {
        "id": "qoyjqijQZHfF"
      },
      "outputs": [],
      "source": [
        "productoMasVendidoTienda1 = tienda[\"Producto\"].value_counts().idxmax()\n",
        "cantidadMasVendidoTienda1 = tienda[\"Producto\"].value_counts().max()\n",
        "productoMasVendidoTienda2 = tienda2[\"Producto\"].value_counts().idxmax()\n",
        "cantidadMasVendidoTienda2 = tienda2[\"Producto\"].value_counts().max()\n",
        "productoMasVendidoTienda3 = tienda3[\"Producto\"].value_counts().idxmax()\n",
        "cantidadMasVendidoTienda3 = tienda3[\"Producto\"].value_counts().max()\n",
        "productoMasVendidoTienda4 = tienda4[\"Producto\"].value_counts().idxmax()\n",
        "cantidadMasVendidoTienda4 = tienda4[\"Producto\"].value_counts().max()"
      ]
    },
    {
      "cell_type": "code",
      "execution_count": null,
      "metadata": {},
      "outputs": [],
      "source": []
    },
    {
      "cell_type": "code",
      "execution_count": 62,
      "metadata": {
        "id": "0Sw3sd4IZIGW"
      },
      "outputs": [
        {
          "name": "stdout",
          "output_type": "stream",
          "text": [
            "Tienda 1: Microondas, 60 veces\n",
            "Tienda 2: Iniciando en programación, 65 veces\n",
            "Tienda 3: Kit de bancas, 57 veces\n",
            "Tienda 4: Cama box, 62 veces\n"
          ]
        }
      ],
      "source": [
        "print(f\"Tienda 1: {productoMasVendidoTienda1}, {cantidadMasVendidoTienda1} veces\")\n",
        "print(f\"Tienda 2: {productoMasVendidoTienda2}, {cantidadMasVendidoTienda2} veces\")\n",
        "print(f\"Tienda 3: {productoMasVendidoTienda3}, {cantidadMasVendidoTienda3} veces\")\n",
        "print(f\"Tienda 4: {productoMasVendidoTienda4}, {cantidadMasVendidoTienda4} veces\")"
      ]
    },
    {
      "cell_type": "markdown",
      "metadata": {
        "id": "Fl0cGi3bZKqU"
      },
      "source": [
        "# 5. Envío promedio por tienda"
      ]
    },
    {
      "cell_type": "code",
      "execution_count": 52,
      "metadata": {
        "id": "S2JeaCykZNy9"
      },
      "outputs": [],
      "source": [
        "costoEnvioTienda1 = tienda[\"Costo de envío\"].mean()\n",
        "costoEnvioTienda2 = tienda2[\"Costo de envío\"].mean()\n",
        "costoEnvioTienda3 = tienda3[\"Costo de envío\"].mean()\n",
        "costoEnvioTienda4 = tienda4[\"Costo de envío\"].mean()"
      ]
    },
    {
      "cell_type": "code",
      "execution_count": 53,
      "metadata": {
        "id": "0tSdCie9ZQlt"
      },
      "outputs": [
        {
          "name": "stdout",
          "output_type": "stream",
          "text": [
            "Costo envio tienda 1: 26018.60958033065\n",
            "Costo envio tienda 2: 25216.235693090293\n",
            "Costo envio tienda 3: 24805.680373039424\n",
            "Costo envio tienda 4: 23459.457167090754\n"
          ]
        }
      ],
      "source": [
        "print(f\"Costo envio tienda 1: {costoEnvioTienda1}\")\n",
        "print(f\"Costo envio tienda 2: {costoEnvioTienda2}\")\n",
        "print(f\"Costo envio tienda 3: {costoEnvioTienda3}\")\n",
        "print(f\"Costo envio tienda 4: {costoEnvioTienda4}\")"
      ]
    }
  ],
  "metadata": {
    "colab": {
      "provenance": []
    },
    "kernelspec": {
      "display_name": ".venv",
      "language": "python",
      "name": "python3"
    },
    "language_info": {
      "codemirror_mode": {
        "name": "ipython",
        "version": 3
      },
      "file_extension": ".py",
      "mimetype": "text/x-python",
      "name": "python",
      "nbconvert_exporter": "python",
      "pygments_lexer": "ipython3",
      "version": "3.13.5"
    }
  },
  "nbformat": 4,
  "nbformat_minor": 0
}
